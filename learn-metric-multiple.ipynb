{
 "cells": [
  {
   "cell_type": "code",
   "execution_count": 1,
   "id": "2b25ffa4",
   "metadata": {},
   "outputs": [],
   "source": [
    "%load_ext autoreload\n",
    "%autoreload 2\n",
    "%matplotlib inline\n",
    "%run src/preamble.py"
   ]
  },
  {
   "cell_type": "markdown",
   "id": "2dcf5054",
   "metadata": {},
   "source": [
    "### Choose datasets among\n",
    "\n",
    "    - 'Grey1977'\n",
    "    - 'Grey1978'\n",
    "    - 'Iverson1993_Whole'\n",
    "    - 'Iverson1993_Onset'\n",
    "    - 'Iverson1993_Remainder'\n",
    "    - 'McAdams1995'\n",
    "    - 'Lakatos2000_Harm'\n",
    "    - 'Lakatos2000_Perc'\n",
    "    - 'Lakatos2000_Comb'\n",
    "    - 'Barthet2010'\n",
    "    - 'Patil2012_A3'\n",
    "    - 'Patil2012_DX4'\n",
    "    - 'Patil2012_GD4'\n",
    "    - 'Siedenburg2016_e2set1'\n",
    "    - 'Siedenburg2016_e2set2'\n",
    "    - 'Siedenburg2016_e2set3'\n",
    "    - 'Siedenburg2016_e3'\n",
    "    \n",
    "    "
   ]
  },
  {
   "cell_type": "code",
   "execution_count": 3,
   "id": "d19f42f0",
   "metadata": {},
   "outputs": [],
   "source": [
    "datasets = ['Grey1977','Grey1978','Siedenburg2016_e3']"
   ]
  },
  {
   "cell_type": "markdown",
   "id": "df24a742",
   "metadata": {},
   "source": [
    "### Choose an audio representation among\n",
    "\n",
    "    - 'strf'\n",
    "    - 'stft'\n",
    "    - 'spectrum' (cochlea in the companion paper)\n",
    "    - 'scattering'\n",
    "    - 'clap'\n",
    "    - 'encodec'\n",
    "    - 'mert'\n",
    "    - 'mertcat'"
   ]
  },
  {
   "cell_type": "code",
   "execution_count": 5,
   "id": "b1d99a64",
   "metadata": {},
   "outputs": [],
   "source": [
    "repres   = 'encodec'"
   ]
  },
  {
   "cell_type": "markdown",
   "id": "06d84fbf",
   "metadata": {},
   "source": [
    "### load the dissimilarity ratings and the audio sample representations and assess normalization"
   ]
  },
  {
   "cell_type": "code",
   "execution_count": 23,
   "id": "00574460",
   "metadata": {},
   "outputs": [
    {
     "name": "stdout",
     "output_type": "stream",
     "text": [
      "correct normalization\n"
     ]
    },
    {
     "data": {
      "image/png": "[encoded data removed]",
      "text/plain": [
       "<Figure size 640x480 with 1 Axes>"
      ]
     },
     "metadata": {},
     "output_type": "display_data"
    }
   ],
   "source": [
    "r,D,d   = load_data(datasets,repres)\n",
    "\n",
    "plt.imshow(D)\n",
    "\n",
    "if abs(np.mean(np.max(np.abs(r),axis=0)-1)) < 10**(-6):\n",
    "       \n",
    "    print('correct normalization')"
   ]
  },
  {
   "cell_type": "markdown",
   "id": "7b68554e",
   "metadata": {},
   "source": [
    "## Metric learning"
   ]
  },
  {
   "cell_type": "markdown",
   "id": "a5a77b0f",
   "metadata": {},
   "source": [
    "### parametric distance\n",
    "\n",
    "For $\\Psi$ an $n_{\\Psi}$-dimensional representation\n",
    "$$\n",
    " \\mathsf{d}_{\\boldsymbol{\\mathsf{w}}}^{\\Psi}(a_i, a_j )^2 = \\sum_{k= 1}^{n_{\\Psi}} \\frac{1}{\\mathsf{\\boldsymbol{\\mathsf{w}}}_k^2} \\left(\\Psi(a_i)_k - \\Psi(a_j)_k\\right)^2.\n",
    "$$\n",
    "\n",
    "### learning procedure\n",
    "\n",
    "The weights are learned through\n",
    "\n",
    "$$\n",
    "\\boldsymbol{\\mathsf{w}}_\\star \\in \\underset{\\boldsymbol{\\mathsf{w}} \\in \\mathbb{R}^{n_{\\Psi}}}{\\mathrm{Argmax}} \\, \\mathcal{P}(\\mathsf{d}_{\\boldsymbol{\\mathsf{w}}}^\\Psi, \\boldsymbol{\\mathsf{s}})\n",
    "$$\n",
    "\n",
    "with the reward function being the Pearson correlation between the weighted distance and human ratings\n",
    "\n",
    "$$\n",
    "\\mathcal{P}(\\mathsf{d}_{\\boldsymbol{\\mathsf{w}}}^{\\Psi}, \\boldsymbol{\\mathsf{s}}) = \\sum_{\\lbrace i,j \\rbrace} \\frac{\\left(\\mathsf{d}_{\\boldsymbol{\\mathsf{w}}}^{\\Psi} (a_i,a_j)^2 - \\mu_{\\boldsymbol{\\mathsf{w}}}\\right) \\left(\\mathsf{s}_{\\lbrace i,j \\rbrace} - \\mu_{\\boldsymbol{\\mathsf{s}}} \\right) }{\\sigma_{\\boldsymbol{\\mathsf{w}}} \\sigma_{\\boldsymbol{\\mathsf{s}}}}\n",
    "$$\n",
    "\n",
    "where $\\mathsf{s}_{\\lbrace i,j \\rbrace}$ denotes the averaged dissimilarity rating for the pair of sounds $(a_i,a_j)$.\n"
   ]
  },
  {
   "cell_type": "markdown",
   "id": "a4b0fc3e",
   "metadata": {},
   "source": [
    "### initialization\n",
    "\n",
    "to be chosen between \n",
    "\n",
    "    - 'warm'\n",
    "    \n",
    "    - 'random'\n",
    "    \n",
    "    "
   ]
  },
  {
   "cell_type": "code",
   "execution_count": 11,
   "id": "5e235f60",
   "metadata": {},
   "outputs": [],
   "source": [
    "init = 'warm'"
   ]
  },
  {
   "cell_type": "markdown",
   "id": "0363f130",
   "metadata": {},
   "source": [
    "- *warm initialization* **(original)**\n",
    "\n",
    "$$\n",
    "\\forall k \\in \\lbrace 1, \\dots, n \\rbrace, \\quad \\mathsf{w}_k = \\frac{1}{\\sqrt{\\widehat{\\mathsf{x}}_k + \\varepsilon}}, \\quad \\varepsilon = 2\\cdot 10^{-16}.\n",
    "$$\n",
    "\n",
    "where $\\varepsilon$ is the machine precision, added in order to avoid division by zero, and $\\widehat{\\boldsymbol{\\mathsf{x}}}$ is a solution the nonnegative least-square regression: \n",
    "\n",
    "$$\n",
    "\\widehat{\\boldsymbol{\\mathsf{x}}} \\in \\underset{x\\in \\mathbb{R}_+^{n_{\\Psi}}}{\\mathrm{Argmin}} \\sum_{k = 1}^{n_{\\Psi}} \\sum_{\\lbrace i,j \\rbrace} \\left( \\left(\\Psi_k(a_i) - \\Psi_k(a_j)\\right)^2  \\mathsf{x}_k - \\mathsf{s}_{\\lbrace i,j \\rbrace} \\right)^2\n",
    "$$\n",
    "\n",
    "with $\\mathsf{s}_{\\lbrace i,j \\rbrace}$ is the human dissimilarity rating for the pair of sounds $a_i$ and $a_j$.\n",
    "\n",
    "\n",
    "    \n",
    "- *random initialization* (Thoret, 2021, Nat. Hum. Behav.)\n",
    " \n",
    "     \n",
    "    $$\n",
    "    \\forall k \\in \\lbrace 1, \\dots, n_{\\Psi} \\rbrace, \\quad \\mathsf{w}_k \\sim \\mathcal{N}(\\mu, \\sigma^2 \\textbf{I}) \\quad \\text{i.i.d.}\n",
    "    $$\n",
    "\n",
    "    with by default $\\mu = 1$ and $\\sigma = 0.01$."
   ]
  },
  {
   "cell_type": "code",
   "execution_count": 13,
   "id": "2e602283",
   "metadata": {},
   "outputs": [
    {
     "name": "stdout",
     "output_type": "stream",
     "text": [
      "BFGS has converged.\n"
     ]
    }
   ],
   "source": [
    "if init == 'warm':\n",
    "    opt     = bfgs_log_kernel_w1(r,d)\n",
    "else:\n",
    "    opt     = bfgs_log_kernel(r,d)"
   ]
  },
  {
   "cell_type": "markdown",
   "id": "720b5be2",
   "metadata": {},
   "source": [
    "### explained variance of human ratings by the learned metric\n",
    "\n",
    "Quantified through the squared Pearson correlation:\n",
    "\n",
    "$$\n",
    "\\mathcal{P}(\\mathsf{d}_{\\boldsymbol{\\mathsf{w}}_\\star}^\\Psi, \\boldsymbol{\\mathsf{s}})^2\n",
    "$$"
   ]
  },
  {
   "cell_type": "code",
   "execution_count": 15,
   "id": "bc9d5f77",
   "metadata": {},
   "outputs": [
    {
     "name": "stdout",
     "output_type": "stream",
     "text": [
      "explained variance 0.01\n"
     ]
    }
   ],
   "source": [
    "wstar    = opt.x\n",
    "P2max    = (-opt.fun)**2\n",
    "\n",
    "print('explained variance %.2f' % P2max)"
   ]
  }
 ],
 "metadata": {
  "kernelspec": {
   "display_name": "Python 3 (ipykernel)",
   "language": "python",
   "name": "python3"
  },
  "language_info": {
   "codemirror_mode": {
    "name": "ipython",
    "version": 3
   },
   "file_extension": ".py",
   "mimetype": "text/x-python",
   "name": "python",
   "nbconvert_exporter": "python",
   "pygments_lexer": "ipython3",
   "version": "3.12.4"
  }
 },
 "nbformat": 4,
 "nbformat_minor": 5
}
